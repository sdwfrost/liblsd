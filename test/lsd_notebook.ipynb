{
 "cells": [
  {
   "cell_type": "code",
   "execution_count": 1,
   "metadata": {},
   "outputs": [
    {
     "data": {
      "text/plain": []
     },
     "execution_count": 1,
     "metadata": {},
     "output_type": "execute_result"
    }
   ],
   "source": [
    "#pragma cling add_include_path(\"/home/simon/Projects/liblsd/include\")"
   ]
  },
  {
   "cell_type": "code",
   "execution_count": 2,
   "metadata": {},
   "outputs": [
    {
     "data": {
      "text/plain": []
     },
     "execution_count": 2,
     "metadata": {},
     "output_type": "execute_result"
    }
   ],
   "source": [
    "#pragma cling add_library_path(\"/home/simon/Projects/liblsd/lib\")\n",
    "#pragma cling load(\"liblsd.so\")"
   ]
  },
  {
   "cell_type": "code",
   "execution_count": 3,
   "metadata": {},
   "outputs": [
    {
     "data": {
      "text/plain": []
     },
     "execution_count": 3,
     "metadata": {},
     "output_type": "execute_result"
    }
   ],
   "source": [
    "#include <lsd.h>"
   ]
  },
  {
   "cell_type": "code",
   "execution_count": 4,
   "metadata": {},
   "outputs": [
    {
     "data": {
      "text/plain": []
     },
     "execution_count": 4,
     "metadata": {},
     "output_type": "execute_result"
    }
   ],
   "source": [
    "Pr* opt = new Pr();"
   ]
  },
  {
   "cell_type": "code",
   "execution_count": 5,
   "metadata": {},
   "outputs": [
    {
     "data": {
      "text/plain": []
     },
     "execution_count": 5,
     "metadata": {},
     "output_type": "execute_result"
    }
   ],
   "source": [
    "// tree file\n",
    "opt->inFile=\"./Dengue.phy_phyml_tree.txt\";\n",
    "// date file\n",
    "opt->inDateFile=\"./Dengue.date\";\n",
    "// sequence length\n",
    "opt->seqLength=1000;\n",
    "// partition file\n",
    "opt->partitionFile = \"\";\n",
    "// outfile\n",
    "opt->outFile = \"./Dengue.lsd\";\n",
    "opt->treeFile1=opt->outFile+\".nexus\";\n",
    "opt->treeFile2=opt->outFile+\".newick\";\n",
    "opt->treeFile3=opt->outFile+\".date.newick\";\n",
    "// number of trees\n",
    "opt->nbData=1;\n",
    "// outgroup file\n",
    "opt->fnOutgroup = \"\";\n",
    "if (opt->fnOutgroup!=\"\"){\n",
    "    opt->keepOutgroup=true;\n",
    "    opt->estimate_root=\"k\";\n",
    "}\n",
    "// estimate root\n",
    "opt->estimate_root = \"a\";\n",
    "// variance\n",
    "opt->variance = 2;\n",
    "// use temporal constraints\n",
    "opt->constraint = true;\n",
    "// parameter of variance\n",
    "opt->c = 10;\n",
    "// lower bound for rate\n",
    "opt->rho_min = 1.0000000e-10;\n",
    "// filename for given rates per tree\n",
    "opt->rate = \"\";\n",
    "if(opt->rate!=\"\"){\n",
    "    opt->givenRate = true;\n",
    "}\n",
    "// root date\n",
    "opt->mrca=0.00000;\n",
    "// -z: tips date\n",
    "opt->leaves=1.00000;\n",
    "// -f: samples for bootstrap\n",
    "opt->nbSampling=0;\n",
    "if(opt->nbSampling>0){\n",
    "    opt->ci=true;\n",
    "    bool fflag = true;\n",
    "}"
   ]
  },
  {
   "cell_type": "code",
   "execution_count": 6,
   "metadata": {},
   "outputs": [
    {
     "data": {
      "text/plain": [
       "(void) @0x7ff3a3905da0\n"
      ]
     },
     "execution_count": 6,
     "metadata": {},
     "output_type": "execute_result"
    }
   ],
   "source": [
    "checkRooted(opt);"
   ]
  },
  {
   "cell_type": "code",
   "execution_count": 7,
   "metadata": {},
   "outputs": [
    {
     "data": {
      "text/plain": [
       "(bool) false\n"
      ]
     },
     "execution_count": 7,
     "metadata": {},
     "output_type": "execute_result"
    }
   ],
   "source": [
    "opt->rooted;"
   ]
  },
  {
   "cell_type": "code",
   "execution_count": 8,
   "metadata": {},
   "outputs": [
    {
     "data": {
      "text/plain": [
       "(int) 32\n"
      ]
     },
     "execution_count": 8,
     "metadata": {},
     "output_type": "execute_result"
    }
   ],
   "source": [
    "opt->nbBranches;"
   ]
  },
  {
   "cell_type": "code",
   "execution_count": 9,
   "metadata": {
    "scrolled": true
   },
   "outputs": [
    {
     "name": "stdout",
     "output_type": "stream",
     "text": [
      "\n",
      "LEAST-SQUARE METHODS TO ESTIMATE RATES AND DATES - v0.3beta \n",
      "\n",
      "\n",
      "Input files:\n",
      "  I                                 Input tree file : ./Dengue.phy_phyml_tree.txt\n",
      "  D                                 Input date file : ./Dengue.date\n",
      "  P                                  Partition file : No\n",
      "Output file:\n",
      "  O                                    Output file  : ./Dengue.lsd\n",
      "Parameters:\n",
      "  C                                With constraints : Yes\n",
      "  T                        Lower bound for the rate : 1.000e-10\n",
      "  V                                  With variances : Yes, use variances based on branches estimated by LSD\n",
      "  B                          Parameter of variances : 10\n",
      "  S                                 Sequence Length : 1000\n",
      "  R                               Estimate the root : Use fast method to search on all branches\n",
      "  W                         Given substitution rate : No\n",
      "  G                                 Given outgroups : No\n",
      "  N                               Multiple data set : No\n",
      "  F                    Compute confidence intervals : No\n",
      "\n",
      "  H to print Help \n",
      "  Y to accept or type a letter to change an option (Q = Exit) "
     ]
    },
    {
     "data": {
      "text/plain": [
       "(void) @0x7ff3a3905da0\n"
      ]
     },
     "execution_count": 9,
     "metadata": {},
     "output_type": "execute_result"
    }
   ],
   "source": [
    "printInterface( stdout, opt );"
   ]
  },
  {
   "cell_type": "code",
   "execution_count": 10,
   "metadata": {},
   "outputs": [
    {
     "data": {
      "text/plain": []
     },
     "execution_count": 10,
     "metadata": {},
     "output_type": "execute_result"
    }
   ],
   "source": [
    "FILE * tree = fopen(opt->inFile.c_str(),\"rt\");"
   ]
  },
  {
   "cell_type": "code",
   "execution_count": 11,
   "metadata": {},
   "outputs": [
    {
     "data": {
      "text/plain": []
     },
     "execution_count": 11,
     "metadata": {},
     "output_type": "execute_result"
    }
   ],
   "source": [
    "FILE * tree1 = fopen(opt->treeFile1.c_str(),\"wt\");\n",
    "FILE * tree2 = fopen(opt->treeFile2.c_str(),\"wt\");\n",
    "FILE * tree3 = fopen(opt->treeFile3.c_str(),\"wt\");\n",
    "FILE * gr=NULL; //given rate"
   ]
  },
  {
   "cell_type": "code",
   "execution_count": 12,
   "metadata": {},
   "outputs": [
    {
     "data": {
      "text/plain": []
     },
     "execution_count": 12,
     "metadata": {},
     "output_type": "execute_result"
    }
   ],
   "source": [
    "if (tree1==NULL || tree2==NULL || tree3==NULL){\n",
    "    cout<<\"Error: can not create the output tree file \"<<opt->treeFile1<<endl;\n",
    "};"
   ]
  },
  {
   "cell_type": "code",
   "execution_count": 13,
   "metadata": {},
   "outputs": [
    {
     "data": {
      "text/plain": []
     },
     "execution_count": 13,
     "metadata": {},
     "output_type": "execute_result"
    }
   ],
   "source": [
    "fprintf(tree1,\"#NEXUS\\n\");\n",
    "if (opt->givenRate) {\n",
    "    gr = fopen(opt->rate.c_str(),\"rt\");\n",
    "}"
   ]
  },
  {
   "cell_type": "code",
   "execution_count": 14,
   "metadata": {},
   "outputs": [
    {
     "data": {
      "text/plain": []
     },
     "execution_count": 14,
     "metadata": {},
     "output_type": "execute_result"
    }
   ],
   "source": [
    "if (opt->partitionFile!=\"\") {\n",
    "    cout<<\"Reading partition file\"<<endl;\n",
    "    readPartitionFile(opt);\n",
    "}"
   ]
  },
  {
   "cell_type": "code",
   "execution_count": 15,
   "metadata": {},
   "outputs": [
    {
     "data": {
      "text/plain": []
     },
     "execution_count": 15,
     "metadata": {},
     "output_type": "execute_result"
    }
   ],
   "source": [
    "bool constraintConsistent=true;\n",
    "int s=0;\n",
    "Node** nodes = new Node*[opt->nbBranches+1];"
   ]
  },
  {
   "cell_type": "code",
   "execution_count": 16,
   "metadata": {},
   "outputs": [
    {
     "data": {
      "text/plain": []
     },
     "execution_count": 16,
     "metadata": {},
     "output_type": "execute_result"
    }
   ],
   "source": [
    "FILE * result = fopen(opt->outFile.c_str(),\"wt\");\n",
    "if (result==NULL){\n",
    "    cout<<\"Error: can not create the output file \"<<opt->outFile<<endl;\n",
    "}"
   ]
  },
  {
   "cell_type": "code",
   "execution_count": 17,
   "metadata": {},
   "outputs": [
    {
     "data": {
      "text/plain": [
       "(void) nullptr\n"
      ]
     },
     "execution_count": 17,
     "metadata": {},
     "output_type": "execute_result"
    }
   ],
   "source": [
    "opt->initConstraints();"
   ]
  },
  {
   "cell_type": "code",
   "execution_count": 18,
   "metadata": {},
   "outputs": [
    {
     "data": {
      "text/plain": [
       "(int) 2\n"
      ]
     },
     "execution_count": 18,
     "metadata": {},
     "output_type": "execute_result"
    }
   ],
   "source": [
    "s=tree2data(tree,opt,nodes,constraintConsistent);"
   ]
  },
  {
   "cell_type": "code",
   "execution_count": 19,
   "metadata": {},
   "outputs": [
    {
     "data": {
      "text/plain": [
       "(Node **) 0x7ff39e2d1e70\n"
      ]
     },
     "execution_count": 19,
     "metadata": {},
     "output_type": "execute_result"
    }
   ],
   "source": [
    "nodes = unrooted2rooted(opt,nodes,s);"
   ]
  },
  {
   "cell_type": "code",
   "execution_count": 20,
   "metadata": {},
   "outputs": [
    {
     "data": {
      "text/plain": [
       "(bool) true\n"
      ]
     },
     "execution_count": 20,
     "metadata": {},
     "output_type": "execute_result"
    }
   ],
   "source": [
    "computeVariance(opt,nodes);\n",
    "constraintConsistent=initConstraint(opt, nodes);"
   ]
  },
  {
   "cell_type": "code",
   "execution_count": 21,
   "metadata": {},
   "outputs": [
    {
     "name": "stdout",
     "output_type": "stream",
     "text": [
      "Optimizing the root position on the branch 1 ... 42.0091519071\n",
      "Optimizing the root position on the branch 2 ... 42.0091519071\n",
      "Optimizing the root position on the branch 3 ... 16.4409450364\n",
      "Optimizing the root position on the branch 4 ... 10.7816976391\n",
      "Optimizing the root position on the branch 5 ... 10.2964176009\n",
      "Optimizing the root position on the branch 6 ... 91.0173964239\n",
      "Optimizing the root position on the branch 7 ... 96.3237700264\n",
      "Optimizing the root position on the branch 8 ... 101.6223452091\n",
      "Optimizing the root position on the branch 9 ... 104.0977559181\n",
      "Optimizing the root position on the branch 10 ... 104.6322606201\n",
      "Optimizing the root position on the branch 11 ... 105.1553302752\n",
      "Optimizing the root position on the branch 12 ... 110.1395067371\n",
      "Optimizing the root position on the branch 13 ... 111.5631693268\n",
      "Optimizing the root position on the branch 14 ... 16.4409450364\n",
      "Optimizing the root position on the branch 15 ... 38.2170064318\n",
      "Optimizing the root position on the branch 16 ... 114.8290030183\n",
      "Optimizing the root position on the branch 17 ... 114.8290030183\n",
      "Optimizing the root position on the branch 18 ... 111.5631693268\n",
      "Optimizing the root position on the branch 19 ... 110.1395067371\n",
      "Optimizing the root position on the branch 20 ... 105.0292507042\n",
      "Optimizing the root position on the branch 21 ... 104.6322606201\n",
      "Optimizing the root position on the branch 22 ... 104.0977559181\n",
      "Optimizing the root position on the branch 23 ... 101.6223452091\n",
      "Optimizing the root position on the branch 24 ... 96.3237700264\n",
      "Optimizing the root position on the branch 25 ... 91.0173964239\n",
      "Optimizing the root position on the branch 26 ... 5.9157789359\n",
      "Optimizing the root position on the branch 27 ... 54.1318816800\n",
      "Optimizing the root position on the branch 28 ... 54.1318816800\n",
      "Optimizing the root position on the branch 29 ... 38.2170064318\n",
      "Optimizing the root position on the branch 30 ... 42.0091519071\n",
      "Optimizing the root position on the branch 31 ... 75.6971154491\n",
      "Optimizing the root position on the branch 32 ... 75.6971154491\n",
      "The new root is on the branch 26\n"
     ]
    },
    {
     "data": {
      "text/plain": [
       "(int) 26\n"
      ]
     },
     "execution_count": 21,
     "metadata": {},
     "output_type": "execute_result"
    }
   ],
   "source": [
    "int r;\n",
    "r=estimate_root_with_constraint_rooted(opt,nodes);"
   ]
  },
  {
   "cell_type": "code",
   "execution_count": 22,
   "metadata": {},
   "outputs": [
    {
     "name": "stdout",
     "output_type": "stream",
     "text": [
      "(Thai63:39.7913,((((Thai84:11.7871,Thai78:5.78714):14.1397,SLanka78:19.9268):18.1279,((Philip64:3.92898,Philip84:23.929):6.91755,Philip56:2.84653):13.2082):5.90161,(((((((((ElSal83:1.33024,Brazi82:0.330244):0,Mexico84:2.33024):0,NewCal84:2.33024):1.03942,ElSal94:13.3697):1.55312,PRico86:6.92278):1.48234,Tahiti79:1.40512):0,Tahiti85:7.40512):4.0766,Indon77:3.48172):0.090927,Indon76:2.57264):39.3837):10.8349);\n",
      "\n"
     ]
    },
    {
     "data": {
      "text/plain": []
     },
     "execution_count": 22,
     "metadata": {},
     "output_type": "execute_result"
    }
   ],
   "source": [
    "//int y = 1;\n",
    "double br = 0.0;\n",
    "double TMRCA = 0.0;\n",
    "double objective = 0.0;\n",
    "if (r>0){\n",
    "    Node** nodes_new = cloneLeaves(opt,nodes,0);\n",
    "    vector<int>::iterator iter=nodes[0]->suc.begin();\n",
    "    int s1=(*iter);\n",
    "    iter++;\n",
    "    int s2=(*iter);\n",
    "    for (int i=opt->nbINodes; i<=opt->nbBranches; i++) {\n",
    "      nodes_new[i]->status=nodes[i]->status;\n",
    "    }\n",
    "    reroot_rootedtree(br,r,s1,s2,opt,nodes,nodes_new);\n",
    "    with_constraint_active_set_lambda_multirates(br,opt,nodes_new,true);\n",
    "    // output(br,y,opt,nodes_new,result,tree1,tree2,tree3);\n",
    "    TMRCA = nodes_new[0]->D;\n",
    "    objective = opt->objective;\n",
    "    cout << newickDate(0,opt,nodes_new).c_str() << endl;\n",
    "    for (int i=0;i<opt->nbBranches+1;i++) delete nodes_new[i];\n",
    "    delete[] nodes_new;\n",
    "}"
   ]
  },
  {
   "cell_type": "code",
   "execution_count": 23,
   "metadata": {},
   "outputs": [
    {
     "data": {
      "text/plain": []
     },
     "execution_count": 23,
     "metadata": {},
     "output_type": "execute_result"
    }
   ],
   "source": [
    "fclose(tree);\n",
    "fclose(result);\n",
    "fclose(tree1);\n",
    "fclose(tree2);\n",
    "fclose(tree3);\n",
    "if (opt->rate!=\"\") fclose(gr);"
   ]
  },
  {
   "cell_type": "code",
   "execution_count": 24,
   "metadata": {},
   "outputs": [
    {
     "data": {
      "text/plain": [
       "(void) @0x7ff3a3905da0\n"
      ]
     },
     "execution_count": 24,
     "metadata": {},
     "output_type": "execute_result"
    }
   ],
   "source": [
    "for (int i=0;i<opt->nbBranches+1;i++) delete nodes[i];\n",
    "delete[] nodes;\n",
    "delete opt;"
   ]
  }
 ],
 "metadata": {
  "kernelspec": {
   "display_name": "C++11",
   "language": "C++",
   "name": "cling-cpp11"
  },
  "language_info": {
   "codemirror_mode": "c++",
   "file_extension": ".c++",
   "mimetype": "text/x-c++src",
   "name": "c++"
  }
 },
 "nbformat": 4,
 "nbformat_minor": 2
}
